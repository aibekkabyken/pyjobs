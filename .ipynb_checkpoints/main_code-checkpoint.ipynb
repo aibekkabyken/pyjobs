{
 "cells": [
  {
   "cell_type": "code",
   "execution_count": 13,
   "id": "d29527e2-35f7-4241-8e6a-a094077c8c06",
   "metadata": {
    "tags": []
   },
   "outputs": [],
   "source": [
    "import json\n",
    "from openpyxl import load_workbook\n",
    "workbook = load_workbook(filename=\"jobs.xlsx\")\n",
    "\n",
    "sheet = workbook.active\n",
    "\n",
    "sheet[\"B2\"] = \"5\"\n",
    "\n",
    "workbook.save(filename=\"jobs.xlsx\")"
   ]
  },
  {
   "cell_type": "code",
   "execution_count": 9,
   "id": "0240f75a-435c-4fdd-badf-1a91316e9c2b",
   "metadata": {},
   "outputs": [],
   "source": []
  },
  {
   "cell_type": "code",
   "execution_count": null,
   "id": "d1f4b4d5-d264-4b5b-a673-aff0ce6db215",
   "metadata": {},
   "outputs": [],
   "source": []
  }
 ],
 "metadata": {
  "kernelspec": {
   "display_name": "Python 3 (ipykernel)",
   "language": "python",
   "name": "python3"
  },
  "language_info": {
   "codemirror_mode": {
    "name": "ipython",
    "version": 3
   },
   "file_extension": ".py",
   "mimetype": "text/x-python",
   "name": "python",
   "nbconvert_exporter": "python",
   "pygments_lexer": "ipython3",
   "version": "3.9.6"
  }
 },
 "nbformat": 4,
 "nbformat_minor": 5
}
